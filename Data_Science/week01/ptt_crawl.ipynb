{
 "cells": [
  {
   "cell_type": "markdown",
   "metadata": {},
   "source": [
    "# Ptt Crawl"
   ]
  },
  {
   "cell_type": "markdown",
   "metadata": {},
   "source": [
    "## 1. Import Libraries and Initial variables"
   ]
  },
  {
   "cell_type": "code",
   "execution_count": 11,
   "metadata": {},
   "outputs": [],
   "source": [
    "# Import lib\n",
    "import numpy as np\n",
    "import requests\n",
    "import scrapy\n",
    "import sys\n",
    "import math\n",
    "from bs4 import BeautifulSoup\n",
    "\n",
    "# date, title, url\n",
    "articles = []\n",
    "popular_articles = []"
   ]
  },
  {
   "cell_type": "markdown",
   "metadata": {},
   "source": [
    "## 2. Crawl data in 2017"
   ]
  },
  {
   "cell_type": "code",
   "execution_count": 23,
   "metadata": {},
   "outputs": [
    {
     "name": "stdout",
     "output_type": "stream",
     "text": [
      "<a href=\"/bbs/Beauty/M.1537191677.A.BBE.html\">Re: [正妹] 有點年代的爆乳</a>\n",
      "<a href=\"/bbs/Beauty/M.1537200137.A.61C.html\">[正妹] 衛理女中</a>\n",
      "<a href=\"/bbs/Beauty/M.1537204682.A.A86.html\">[正妹] 跟女孩們一起吃吧！(一)</a>\n",
      "<a href=\"/bbs/Beauty/M.1537232380.A.E9C.html\">[正妹] 可以</a>\n",
      "<a href=\"/bbs/Beauty/M.1537233587.A.838.html\">[神人] 亮眼美女</a>\n",
      "<a href=\"/bbs/Beauty/M.1537233880.A.14B.html\">[正妹] 越南妹紙</a>\n",
      "<a href=\"/bbs/Beauty/M.1537234434.A.0D6.html\">[正妹] 尾崎由香</a>\n",
      "<a href=\"/bbs/Beauty/M.1537235976.A.97B.html\">[正妹] 短髮兇妹 Irene Noren</a>\n",
      "None\n",
      "<a href=\"/bbs/Beauty/M.1537237923.A.A41.html\">[正妹] 杏</a>\n",
      "<a href=\"/bbs/Beauty/M.1537243402.A.405.html\">[正妹] 達人女中啦啦隊長</a>\n",
      "<a href=\"/bbs/Beauty/M.1537245759.A.71B.html\">[正妹] 美術設計插畫家 </a>\n",
      "<a href=\"/bbs/Beauty/M.1537246726.A.4F4.html\">[神人] 網站上看到的showgirl</a>\n",
      "<a href=\"/bbs/Beauty/M.1537247397.A.6E9.html\">[正妹] 人間有愛美 愛美</a>\n",
      "<a href=\"/bbs/Beauty/M.1537248305.A.AC5.html\">[正妹] 額頭</a>\n",
      "<a href=\"/bbs/Beauty/M.1537259243.A.469.html\">[正妹] 再推</a>\n",
      "None\n",
      "<a href=\"/bbs/Beauty/M.1537270257.A.40C.html\">[正妹] pyxis的天使 伊藤美來</a>\n",
      "<a href=\"/bbs/Beauty/M.1537273630.A.DBB.html\">[神人] 桃園寶山街品客牛排-啟英高中打工店員</a>\n",
      "<a href=\"/bbs/Beauty/M.1423752558.A.849.html\">[公告] 表特板板規 (2015.2.12)</a>\n",
      "<a href=\"/bbs/Beauty/M.1430099938.A.3B7.html\">[公告] 對於謾罵，希望大家將心比心</a>\n",
      "<a href=\"/bbs/Beauty/M.1507213965.A.0C7.html\">[公告] 板規修訂 - 意淫文字</a>\n",
      "<a href=\"/bbs/Beauty/M.1529847842.A.237.html\">[公告] 不願上表特 ＆ 優文推薦 ＆ 檢舉建議專區</a>\n"
     ]
    }
   ],
   "source": [
    "def crawl(url):\n",
    "    r = requests.get(url)\n",
    "    content = r.text\n",
    "    page_soup = BeautifulSoup(content, \"html.parser\")\n",
    "    \n",
    "    # Find articles\n",
    "    articles_class = page_soup.find_all(class_=\"r-ent\")\n",
    "    \n",
    "    for article in articles_class:\n",
    "\n",
    "        print (article.a)\n",
    "    \n",
    "    # Check aricles are posted in 2017\n",
    "    \n",
    "    # Find previous page url \n",
    "    page_button_class = page_soup.find_all(class_=\"btn-group btn-group-paging\")\n",
    "    #print (page_button_class)\n",
    "    \n",
    "    \n",
    "url = \"https://www.ptt.cc/bbs/Beauty/index.html\"   \n",
    "crawl(url)    "
   ]
  },
  {
   "cell_type": "code",
   "execution_count": 8,
   "metadata": {},
   "outputs": [],
   "source": [
    "\n"
   ]
  },
  {
   "cell_type": "code",
   "execution_count": null,
   "metadata": {},
   "outputs": [],
   "source": []
  }
 ],
 "metadata": {
  "kernelspec": {
   "display_name": "Python 3",
   "language": "python",
   "name": "python3"
  },
  "language_info": {
   "codemirror_mode": {
    "name": "ipython",
    "version": 3
   },
   "file_extension": ".py",
   "mimetype": "text/x-python",
   "name": "python",
   "nbconvert_exporter": "python",
   "pygments_lexer": "ipython3",
   "version": "3.6.5"
  }
 },
 "nbformat": 4,
 "nbformat_minor": 2
}
